{
  "nbformat": 4,
  "nbformat_minor": 0,
  "metadata": {
    "colab": {
      "provenance": []
    },
    "kernelspec": {
      "name": "python3",
      "display_name": "Python 3"
    },
    "language_info": {
      "name": "python"
    }
  },
  "cells": [
    {
      "cell_type": "code",
      "source": [
        "class BaseSalary:\n",
        "  def __init__(self, amount, bonus_rate=0.1, symbol='₦'):\n",
        "    self.amount = amount\n",
        "    self.bonus_rate = bonus_rate\n",
        "    self.symbol = symbol\n",
        "    self.total_salary = (self.amount * (1 + bonus_rate))\n",
        "    self.bonus = (self.total_salary - amount) / amount\n",
        "\n",
        "  def __str__(self):\n",
        "    return f'{self.symbol}{self.total_salary:,.2f}'\n",
        "\n",
        "  def __repr__(self):\n",
        "    return f'{self.symbol}{self.amount:,.2f}'\n",
        "\n",
        "  def cal_salary(self):\n",
        "    return f'{self.symbol}{self.total_salary:,.2f}'\n",
        "\n",
        "  def cal_bonus(self):\n",
        "    return f'{self.symbol}{self.amount * self.bonus_rate:,.2f}'"
      ],
      "metadata": {
        "id": "iX6ffRZzg0v7"
      },
      "execution_count": null,
      "outputs": []
    },
    {
      "cell_type": "code",
      "source": [
        "salary = BaseSalary(100000)\n",
        "print(salary)"
      ],
      "metadata": {
        "colab": {
          "base_uri": "https://localhost:8080/"
        },
        "id": "LCB38Z9Ihmjr",
        "outputId": "2c8836a7-56c3-4999-b98b-f821a3fc1885"
      },
      "execution_count": null,
      "outputs": [
        {
          "output_type": "stream",
          "name": "stdout",
          "text": [
            "₦110,000.00\n"
          ]
        }
      ]
    },
    {
      "cell_type": "code",
      "source": [],
      "metadata": {
        "id": "Nw_k9jJjnM9Y"
      },
      "execution_count": null,
      "outputs": []
    }
  ]
}